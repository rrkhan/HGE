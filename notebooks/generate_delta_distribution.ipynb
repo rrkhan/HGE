{
 "cells": [
  {
   "cell_type": "code",
   "execution_count": 13,
   "id": "50adf367-0050-4426-bedf-6a6e80f8d7a2",
   "metadata": {},
   "outputs": [
    {
     "name": "stdout",
     "output_type": "stream",
     "text": [
      "Using device: cuda:0\n"
     ]
    }
   ],
   "source": [
    "import torch\n",
    "\n",
    "device = torch.device(\"cuda:0\")\n",
    "\n",
    "print(f\"Using device: {device}\")\n",
    "\n",
    "import numpy as np\n",
    "\n",
    "from hyperbolicity import delta\n",
    "from hyperbolicity import sample_points as sp\n",
    "import matplotlib.pyplot as plt\n",
    "import seaborn as sns"
   ]
  },
  {
   "cell_type": "code",
   "execution_count": 7,
   "id": "f372bf54-f8a0-4a4c-b44a-fb23d1047fa3",
   "metadata": {},
   "outputs": [],
   "source": [
    "num_points = 100\n",
    "dim = 10\n",
    "# curvature of the manifold (Euclidean curvature = 0)\n",
    "K=0\n"
   ]
  },
  {
   "cell_type": "code",
   "execution_count": 8,
   "id": "b28a8a76-6851-4827-9680-7236cc9408ef",
   "metadata": {},
   "outputs": [],
   "source": [
    "_, distance_matrix = sp.sample_points_on_manifold(curvature=K, dim=dim, n_points=num_points)\n",
    "\n",
    "# Generate distribution of deltas, to be used for downstream analyses\n",
    "deltas = delta.compute_delta(distance_matrix)"
   ]
  }
 ],
 "metadata": {
  "kernelspec": {
   "display_name": "Python 3",
   "language": "python",
   "name": "python3"
  },
  "language_info": {
   "codemirror_mode": {
    "name": "ipython",
    "version": 3
   },
   "file_extension": ".py",
   "mimetype": "text/x-python",
   "name": "python",
   "nbconvert_exporter": "python",
   "pygments_lexer": "ipython3",
   "version": "3.8.19"
  }
 },
 "nbformat": 4,
 "nbformat_minor": 5
}
