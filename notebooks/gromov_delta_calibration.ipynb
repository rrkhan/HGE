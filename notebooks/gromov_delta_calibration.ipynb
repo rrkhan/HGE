{
 "cells": [
  {
   "cell_type": "markdown",
   "id": "50b0b745-0443-4de1-849c-a69a7d15138e",
   "metadata": {},
   "source": [
    "## Computing Gromov's delta on simulated data\n"
   ]
  },
  {
   "cell_type": "code",
   "execution_count": 143,
   "id": "b52f533e-25c6-484d-b8f3-cf7ab9316967",
   "metadata": {},
   "outputs": [
    {
     "name": "stdout",
     "output_type": "stream",
     "text": [
      "Using device: cuda\n"
     ]
    }
   ],
   "source": [
    "# Torch device management\n",
    "import torch\n",
    "\n",
    "if torch.cuda.is_available():\n",
    "    torch.cuda.set_device(0)\n",
    "    device = torch.device(\"cuda\")\n",
    "else:\n",
    "    device = torch.device(\"cpu\")\n",
    "\n",
    "print(f\"Using device: {device}\")\n"
   ]
  },
  {
   "cell_type": "code",
   "execution_count": 154,
   "id": "fce43776-5390-4032-80b1-4699aa79cd25",
   "metadata": {},
   "outputs": [],
   "source": [
    "import networkx as nx\n",
    "import numpy as np\n",
    "\n",
    "from delta import hypdelta\n",
    "from hyperbolicity import sample_points as sp"
   ]
  },
  {
   "cell_type": "code",
   "execution_count": 149,
   "id": "59e85508-98fe-4130-867c-3d1d19e9b58a",
   "metadata": {},
   "outputs": [],
   "source": [
    "N_ITERATIONS = 100"
   ]
  },
  {
   "cell_type": "markdown",
   "id": "5d84348c-e9c7-4e6a-a287-99f2bce4045e",
   "metadata": {},
   "source": [
    "### Compute delta-hyperbolicity of points on a hypersphere"
   ]
  },
  {
   "cell_type": "code",
   "execution_count": 153,
   "id": "953f280f-f3ba-4cc0-9ef9-4664551c6741",
   "metadata": {},
   "outputs": [
    {
     "name": "stdout",
     "output_type": "stream",
     "text": [
      "The average delta hyperbolicity of randomly sampled points on spherical manifolds is: 0.9896971008577237\n"
     ]
    }
   ],
   "source": [
    "dim = 2\n",
    "n_points = 500\n",
    "curvatures = [1, 2, 3]\n",
    "deltas = []\n",
    "\n",
    "for _ in range(N_ITERATIONS):\n",
    "\n",
    "    for K in curvatures:\n",
    "        points, distance_mat = sp.sample_points_on_manifold(curvature=K, dim=dim, n_points=n_points)\n",
    "    \n",
    "        delta = hypdelta(distance_mat, device=\"cpu\", strategy=\"naive\")\n",
    "        deltas.append(delta)\n",
    "\n",
    "print(f\"The average delta hyperbolicity of randomly sampled points on spherical manifolds is: {np.mean(deltas)}\")"
   ]
  },
  {
   "cell_type": "markdown",
   "id": "1c1f078a-75cf-419a-87ee-c21a11b5d323",
   "metadata": {},
   "source": [
    "### Compute delta-hyperbolicity of Euclidean Space"
   ]
  },
  {
   "cell_type": "code",
   "execution_count": 140,
   "id": "72b836e8-df22-4ce9-8689-8a6247eb44ca",
   "metadata": {},
   "outputs": [
    {
     "name": "stdout",
     "output_type": "stream",
     "text": [
      "The computed delta hyperbolicity of randomly sampled points at curvature 0 is: 0.5185156364344387\n"
     ]
    }
   ],
   "source": [
    "from scipy.spatial import distance_matrix\n",
    "dim = 2\n",
    "n_points = 300\n",
    "K=0\n",
    "\n",
    "points, distance_mat = sp.sample_points_on_manifold(curvature=K, dim=dim, n_points=n_points)\n",
    "\n",
    "delta = hypdelta(distance_mat, device=\"cpu\", strategy=\"naive\")\n",
    "\n",
    "print(f\"The computed delta hyperbolicity of randomly sampled points at curvature {K} is: {delta}\")"
   ]
  },
  {
   "cell_type": "code",
   "execution_count": 61,
   "id": "276a1cd5-1e59-4aad-bcdc-519427012630",
   "metadata": {},
   "outputs": [
    {
     "name": "stdout",
     "output_type": "stream",
     "text": [
      "The computed delta hyperbolicity of randomly sampled points at curvature 0 is: 0.5125611688650199\n"
     ]
    }
   ],
   "source": [
    "from scipy.spatial import distance_matrix\n",
    "dim = 2\n",
    "n_points = 300\n",
    "K=0\n",
    "\n",
    "deltas = []\n",
    "\n",
    "for _ in range(N_ITERATIONS):\n",
    "    points = sp.sample_points_on_manifold(curvature=K, dim=dim, n_points=n_points)\n",
    "    \n",
    "    points = points.detach().numpy()\n",
    "    distance_mat = distance_matrix(points, points)#m_h.dist(points[:, None], points[None, :])\n",
    "    #distance_mat = distance_mat.detach().numpy()\n",
    "    delta = hypdelta(distance_mat, device=\"cpu\", strategy=\"naive\")\n",
    "    deltas.append(delta)\n",
    "\n",
    "print(f\"The computed delta hyperbolicity of randomly sampled points at curvature {K} is: {np.mean(deltas)}\")"
   ]
  },
  {
   "cell_type": "code",
   "execution_count": 138,
   "id": "da41bba6-5500-4cf7-8086-d814f71edbd5",
   "metadata": {},
   "outputs": [
    {
     "name": "stdout",
     "output_type": "stream",
     "text": [
      "0.5471001347339421 0.5471001340765046\n"
     ]
    }
   ],
   "source": [
    "from scipy.spatial import distance_matrix\n",
    "\n",
    "dim = 2\n",
    "n_points = 300\n",
    "K=0\n",
    "points, distance_mat1 = sp.sample_points_on_manifold(curvature=K, dim=dim, n_points=n_points)\n",
    "\n",
    "\n",
    "points = points.detach().numpy()\n",
    "distance_mat2 = distance_matrix(points, points)\n",
    "\n",
    "delta1 = hypdelta(distance_mat1, device=\"cpu\", strategy=\"naive\")\n",
    "delta2 = hypdelta(distance_mat2, device=\"cpu\", strategy=\"naive\")\n",
    "\n",
    "print(delta1, delta2)"
   ]
  },
  {
   "cell_type": "markdown",
   "id": "12166b2d-7b51-4c46-9796-5779e3244711",
   "metadata": {},
   "source": [
    "### Compute delta-hyperbolicity of discrete spaces [tree]\n",
    "\n"
   ]
  },
  {
   "cell_type": "code",
   "execution_count": 155,
   "id": "b895d0c4-4309-456e-9866-469b12643750",
   "metadata": {},
   "outputs": [
    {
     "name": "stdout",
     "output_type": "stream",
     "text": [
      "The computed delta hyperbolicity of random trees is: 0.0\n"
     ]
    }
   ],
   "source": [
    "def get_distance_matrix(G):\n",
    "    \"\"\"\n",
    "    Calculate the distance matrix for a given graph G.\n",
    "\n",
    "    Parameters:\n",
    "    G (networkx.Graph): The input graph.\n",
    "\n",
    "    Returns:\n",
    "    numpy.ndarray: A distance matrix where the element at [i, j] is the shortest path distance between nodes i and j.\n",
    "    \"\"\"\n",
    "    # Get the number of nodes\n",
    "    num_nodes = G.number_of_nodes()\n",
    "    \n",
    "    # Initialize the distance matrix with infinity\n",
    "    distance_matrix = np.full((num_nodes, num_nodes), np.inf)\n",
    "    \n",
    "    # Calculate shortest paths\n",
    "    shortest_paths = dict(nx.all_pairs_shortest_path_length(G))\n",
    "    \n",
    "    # Fill the distance matrix\n",
    "    for i in range(num_nodes):\n",
    "        for j in range(num_nodes):\n",
    "            if i in shortest_paths and j in shortest_paths[i]:\n",
    "                distance_matrix[i, j] = shortest_paths[i][j]\n",
    "            elif i == j:\n",
    "                distance_matrix[i, j] = 0\n",
    "    \n",
    "    return distance_matrix\n",
    "\n",
    "\n",
    "N_NODES = 100\n",
    "\n",
    "\n",
    "deltas = []\n",
    "for i in range(N_ITERATIONS):\n",
    "    tree_graph = nx.random_tree(n=N_NODES)\n",
    "    distance_mat = get_distance_matrix(tree_graph)\n",
    "    delta = hypdelta(distance_mat, device=\"cpu\", strategy=\"naive\")\n",
    "    deltas.append(delta)\n",
    "\n",
    "print(f\"The computed delta hyperbolicity of random trees is: {np.mean(deltas)}\")"
   ]
  },
  {
   "cell_type": "code",
   "execution_count": null,
   "id": "9eaed2a8-43f8-4ab5-8d37-e577df993d06",
   "metadata": {},
   "outputs": [],
   "source": []
  },
  {
   "cell_type": "code",
   "execution_count": null,
   "id": "32629921-7379-4bd1-870f-4b1f3d867211",
   "metadata": {},
   "outputs": [],
   "source": []
  }
 ],
 "metadata": {
  "kernelspec": {
   "display_name": "Python 3",
   "language": "python",
   "name": "python3"
  },
  "language_info": {
   "codemirror_mode": {
    "name": "ipython",
    "version": 3
   },
   "file_extension": ".py",
   "mimetype": "text/x-python",
   "name": "python",
   "nbconvert_exporter": "python",
   "pygments_lexer": "ipython3",
   "version": "3.8.19"
  }
 },
 "nbformat": 4,
 "nbformat_minor": 5
}
